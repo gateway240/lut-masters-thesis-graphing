{
 "cells": [
  {
   "cell_type": "markdown",
   "source": [
    "# Imports"
   ],
   "metadata": {
    "collapsed": false
   }
  },
  {
   "cell_type": "code",
   "execution_count": 1,
   "outputs": [],
   "source": [
    "import sys\n",
    "import dill as pickle\n",
    "from math import ceil\n",
    "import pandas as pd\n",
    "# to save results to data directory\n",
    "module_path = '..'\n",
    "if module_path not in sys.path:\n",
    "    sys.path.insert(1, module_path)\n",
    "# increase displayed columns in jupyter notebook\n",
    "pd.set_option('display.max_columns', 200)\n",
    "pd.set_option('display.max_rows', 300)"
   ],
   "metadata": {
    "collapsed": false,
    "pycharm": {
     "name": "#%%\n"
    }
   }
  },
  {
   "cell_type": "code",
   "execution_count": 2,
   "outputs": [],
   "source": [
    "import logging\n",
    "import numpy as np\n",
    "import matplotlib.pyplot as plt\n",
    "\n",
    "import matplotlib\n",
    "# matplotlib.use(\"pgf\")\n",
    "# matplotlib.rcParams.update({\n",
    "#     \"pgf.texsystem\": \"pdflatex\",\n",
    "#     'font.family': 'serif',\n",
    "#     'text.usetex': True,\n",
    "#     'pgf.rcfonts': False,\n",
    "# })\n",
    "\n",
    "# increase displayed columns in jupyter notebook\n",
    "pd.set_option('display.max_columns', 200)\n",
    "pd.set_option('display.max_rows', 300)\n",
    "\n",
    "# temporarily remove deprecation warnings\n",
    "import warnings\n",
    "warnings.filterwarnings(\"ignore\", category=DeprecationWarning)\n",
    "\n",
    "logging.basicConfig(format='%(asctime)s: %(message)s', datefmt='%m/%d/%Y %I:%M:%S %p')\n",
    "logger = logging.getLogger(\"TimeSeries\")\n",
    "logger.setLevel(logging.INFO)\n",
    "\n",
    "output_dir = 'beth_output'"
   ],
   "metadata": {
    "collapsed": false,
    "pycharm": {
     "name": "#%%\n"
    }
   }
  },
  {
   "cell_type": "markdown",
   "source": [
    "# Dataset"
   ],
   "metadata": {
    "collapsed": false
   }
  },
  {
   "cell_type": "code",
   "execution_count": 3,
   "outputs": [],
   "source": [
    "with open(f\"_data/BETH/data.pkl\", \"rb\") as fh:\n",
    "    df= pickle.load(fh)\n",
    "\n",
    "with open(f\"_data/BETH/model.pkl\", \"rb\") as fh:\n",
    "    outlier_model = pickle.load(fh)"
   ],
   "metadata": {
    "collapsed": false,
    "pycharm": {
     "name": "#%%\n"
    }
   }
  },
  {
   "cell_type": "code",
   "execution_count": 4,
   "outputs": [],
   "source": [
    "height = 4\n",
    "width = 6\n",
    "outlier_key = \"userId\"\n",
    "data_f_c = df[outlier_key]\n",
    "fig = plt.figure()\n",
    "\n",
    "plt.plot(data_f_c)\n",
    "plt.xlabel('Time (s)')\n",
    "plt.ylabel('User ID')\n",
    "\n",
    "fig.set_size_inches(w=width, h=height)\n",
    "plt.savefig(f'{output_dir}/base_sig_{outlier_key}_all.pgf')"
   ],
   "metadata": {
    "collapsed": false,
    "pycharm": {
     "name": "#%%\n"
    }
   }
  },
  {
   "cell_type": "code",
   "execution_count": 5,
   "outputs": [],
   "source": [
    "height = 4\n",
    "width = 6\n",
    "# In progress Plot\n",
    "fig = plt.figure()\n",
    "plt.plot(outlier_model.max_val,'b-', label='max')\n",
    "plt.plot( outlier_model.max_mean,'r-',label=r'$\\mu$')\n",
    "plt.plot( outlier_model.max_std_dev,'g-',label=r'$\\sigma$')\n",
    "plt.xlabel('time')\n",
    "plt.legend(loc=0)\n",
    "\n",
    "fig.set_size_inches(w=width, h=height)\n",
    "plt.savefig(f'{output_dir}/mp_hist_{outlier_key}.pgf')"
   ],
   "metadata": {
    "collapsed": false,
    "pycharm": {
     "name": "#%%\n"
    }
   }
  },
  {
   "cell_type": "code",
   "execution_count": 6,
   "outputs": [
    {
     "name": "stderr",
     "output_type": "stream",
     "text": [
      "04/22/2022 12:03:47 PM: [11000, 213090, 237204, 485354, 787618, 816542]\n"
     ]
    }
   ],
   "source": [
    "# Results plot\n",
    "fig = plt.figure()\n",
    "data_test = df.copy()\n",
    "plt.plot(data_test[\"evil\"] )\n",
    "# plt.title(f\"Detection Method: Anomaly\")\n",
    "logger.info(outlier_model.anomalies)\n",
    "for i in outlier_model.anomalies:\n",
    "    plt.axvline(x=i,color='r')\n",
    "plt.xlabel(r'time')\n",
    "plt.ylabel(r'evil')\n",
    "\n",
    "fig.set_size_inches(w=width, h=height)\n",
    "plt.savefig(f'{output_dir}/outlier_result_evil_{outlier_key}.pgf')"
   ],
   "metadata": {
    "collapsed": false,
    "pycharm": {
     "name": "#%%\n"
    }
   }
  },
  {
   "cell_type": "code",
   "execution_count": 7,
   "outputs": [
    {
     "name": "stderr",
     "output_type": "stream",
     "text": [
      "04/22/2022 12:03:47 PM: [11000, 213090, 237204, 485354, 787618, 816542]\n"
     ]
    }
   ],
   "source": [
    "# Results plot\n",
    "fig = plt.figure()\n",
    "data_test = df.copy()\n",
    "plt.plot(data_test[\"sus\"] )\n",
    "# plt.title(f\"Detection Method: Anomaly\")\n",
    "logger.info(outlier_model.anomalies)\n",
    "for i in outlier_model.anomalies:\n",
    "    plt.axvline(x=i,color='r')\n",
    "plt.xlabel(r'time')\n",
    "plt.ylabel(r'sus')\n",
    "\n",
    "fig.set_size_inches(w=width, h=height)\n",
    "plt.savefig(f'{output_dir}/outlier_result_sus_{outlier_key}.pgf')"
   ],
   "metadata": {
    "collapsed": false,
    "pycharm": {
     "name": "#%%\n"
    }
   }
  }
 ],
 "metadata": {
  "interpreter": {
   "hash": "d9d18e9f29cc76176cc64cecda10b08503df27bbeb68d46276fb666f16272d10"
  },
  "kernelspec": {
   "name": "python3",
   "language": "python",
   "display_name": "Python 3 (ipykernel)"
  },
  "language_info": {
   "codemirror_mode": {
    "name": "ipython",
    "version": 3
   },
   "file_extension": ".py",
   "mimetype": "text/x-python",
   "name": "python",
   "nbconvert_exporter": "python",
   "pygments_lexer": "ipython3",
   "version": "3.8.12"
  },
  "toc-autonumbering": true
 },
 "nbformat": 4,
 "nbformat_minor": 5
}