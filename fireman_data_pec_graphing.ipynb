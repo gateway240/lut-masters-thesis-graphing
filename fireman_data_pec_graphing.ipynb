{
 "cells": [
  {
   "cell_type": "markdown",
   "metadata": {},
   "source": [
    "# Imports\n",
    "This notebook uses data available to FIREMAN members on [LUT sharepoint](https://lut.sharepoint.com/:f:/r/sites/o365fireman/Shared%20Documents/Colab_PowerElectronicConverter/PEC_datasets/New%20Data?csf=1&web=1&e=JINTw3)"
   ]
  },
  {
   "cell_type": "code",
   "execution_count": 1,
   "metadata": {},
   "outputs": [],
   "source": [
    "import logging\n",
    "import sys\n",
    "import pandas as pd\n",
    "\n",
    "# to save results to data directory\n",
    "module_path = '..'\n",
    "if module_path not in sys.path:\n",
    "    sys.path.insert(0, module_path)\n",
    "# increase displayed columns in jupyter notebook\n",
    "pd.set_option('display.max_columns', 200)\n",
    "pd.set_option('display.max_rows', 300)"
   ]
  },
  {
   "cell_type": "code",
   "execution_count": 2,
   "metadata": {
    "tags": []
   },
   "outputs": [],
   "source": [
    "import scipy.io\n",
    "\n",
    "# increase displayed columns in jupyter notebook\n",
    "pd.set_option('display.max_columns', 200)\n",
    "pd.set_option('display.max_rows', 300)\n",
    "\n",
    "import dill as pickle\n",
    "import numpy as np\n",
    "import matplotlib\n",
    "import matplotlib.pyplot as plt\n",
    "\n",
    "matplotlib.use(\"pgf\")\n",
    "matplotlib.rcParams.update({\n",
    "    \"pgf.texsystem\": \"pdflatex\",\n",
    "    'font.family': 'serif',\n",
    "    'text.usetex': True,\n",
    "    'pgf.rcfonts': False,\n",
    "})\n",
    "logging.basicConfig(format='%(asctime)s: %(message)s', datefmt='%m/%d/%Y %I:%M:%S %p')\n",
    "logger = logging.getLogger(\"TimeSeries\")\n",
    "logger.setLevel(logging.INFO)\n",
    "# temporarily remove deprecation warnings\n",
    "import warnings\n",
    "\n",
    "warnings.filterwarnings(\"ignore\", category=DeprecationWarning)\n",
    "\n",
    "output_dir = 'pec_output'"
   ]
  },
  {
   "cell_type": "markdown",
   "source": [
    "# Dataset"
   ],
   "metadata": {
    "collapsed": false
   }
  },
  {
   "cell_type": "code",
   "execution_count": 3,
   "metadata": {},
   "outputs": [],
   "source": [
    "with open(f\"_data/PEC/dataset.pkl\", \"rb\") as fh:\n",
    "    data_df_final = pickle.load(fh)\n",
    "\n",
    "with open(f\"_data/PEC/outlier_model.pkl\", \"rb\") as fh:\n",
    "    outlier_model = pickle.load(fh)\n"
   ]
  },
  {
   "cell_type": "markdown",
   "metadata": {},
   "source": [
    "## Simple display of the dataset"
   ]
  },
  {
   "cell_type": "code",
   "execution_count": 4,
   "metadata": {},
   "outputs": [
    {
     "data": {
      "text/plain": "    f_c            P    m_d  m_q       theta   P_ref   V_DC   V_phaseA  \\\n0  50.0  2499.997221  311.0  0.0  312.486512  2500.0  800.0   2.487576   \n1  50.0  2499.997250  311.0  0.0  312.502220  2500.0  800.0   7.372088   \n2  50.0  2499.997280  311.0  0.0  312.517928  2500.0  800.0  12.254782   \n3  50.0  2499.997310  311.0  0.0  312.533636  2500.0  800.0  17.134452   \n4  50.0  2499.997341  311.0  0.0  312.549344  2500.0  800.0  22.009894   \n\n     V_phaseB    V_phaseC  I_phaseA  I_phaseB  I_phaseC     label  fault     \n0 -270.569073  268.081497 -0.392875 -4.447507  4.840382  LL_Fault      0  0  \n1 -272.944264  265.572176 -0.308598 -4.494417  4.803015  LL_Fault      0  1  \n2 -275.252112  262.997330 -0.224245 -4.540218  4.764463  LL_Fault      0  2  \n3 -277.492044  260.357593 -0.139837 -4.584899  4.724735  LL_Fault      0  3  \n4 -279.663510  257.653616 -0.055394 -4.628448  4.683842  LL_Fault      0  4  ",
      "text/html": "<div>\n<style scoped>\n    .dataframe tbody tr th:only-of-type {\n        vertical-align: middle;\n    }\n\n    .dataframe tbody tr th {\n        vertical-align: top;\n    }\n\n    .dataframe thead th {\n        text-align: right;\n    }\n</style>\n<table border=\"1\" class=\"dataframe\">\n  <thead>\n    <tr style=\"text-align: right;\">\n      <th></th>\n      <th>f_c</th>\n      <th>P</th>\n      <th>m_d</th>\n      <th>m_q</th>\n      <th>theta</th>\n      <th>P_ref</th>\n      <th>V_DC</th>\n      <th>V_phaseA</th>\n      <th>V_phaseB</th>\n      <th>V_phaseC</th>\n      <th>I_phaseA</th>\n      <th>I_phaseB</th>\n      <th>I_phaseC</th>\n      <th>label</th>\n      <th>fault</th>\n      <th></th>\n    </tr>\n  </thead>\n  <tbody>\n    <tr>\n      <th>0</th>\n      <td>50.0</td>\n      <td>2499.997221</td>\n      <td>311.0</td>\n      <td>0.0</td>\n      <td>312.486512</td>\n      <td>2500.0</td>\n      <td>800.0</td>\n      <td>2.487576</td>\n      <td>-270.569073</td>\n      <td>268.081497</td>\n      <td>-0.392875</td>\n      <td>-4.447507</td>\n      <td>4.840382</td>\n      <td>LL_Fault</td>\n      <td>0</td>\n      <td>0</td>\n    </tr>\n    <tr>\n      <th>1</th>\n      <td>50.0</td>\n      <td>2499.997250</td>\n      <td>311.0</td>\n      <td>0.0</td>\n      <td>312.502220</td>\n      <td>2500.0</td>\n      <td>800.0</td>\n      <td>7.372088</td>\n      <td>-272.944264</td>\n      <td>265.572176</td>\n      <td>-0.308598</td>\n      <td>-4.494417</td>\n      <td>4.803015</td>\n      <td>LL_Fault</td>\n      <td>0</td>\n      <td>1</td>\n    </tr>\n    <tr>\n      <th>2</th>\n      <td>50.0</td>\n      <td>2499.997280</td>\n      <td>311.0</td>\n      <td>0.0</td>\n      <td>312.517928</td>\n      <td>2500.0</td>\n      <td>800.0</td>\n      <td>12.254782</td>\n      <td>-275.252112</td>\n      <td>262.997330</td>\n      <td>-0.224245</td>\n      <td>-4.540218</td>\n      <td>4.764463</td>\n      <td>LL_Fault</td>\n      <td>0</td>\n      <td>2</td>\n    </tr>\n    <tr>\n      <th>3</th>\n      <td>50.0</td>\n      <td>2499.997310</td>\n      <td>311.0</td>\n      <td>0.0</td>\n      <td>312.533636</td>\n      <td>2500.0</td>\n      <td>800.0</td>\n      <td>17.134452</td>\n      <td>-277.492044</td>\n      <td>260.357593</td>\n      <td>-0.139837</td>\n      <td>-4.584899</td>\n      <td>4.724735</td>\n      <td>LL_Fault</td>\n      <td>0</td>\n      <td>3</td>\n    </tr>\n    <tr>\n      <th>4</th>\n      <td>50.0</td>\n      <td>2499.997341</td>\n      <td>311.0</td>\n      <td>0.0</td>\n      <td>312.549344</td>\n      <td>2500.0</td>\n      <td>800.0</td>\n      <td>22.009894</td>\n      <td>-279.663510</td>\n      <td>257.653616</td>\n      <td>-0.055394</td>\n      <td>-4.628448</td>\n      <td>4.683842</td>\n      <td>LL_Fault</td>\n      <td>0</td>\n      <td>4</td>\n    </tr>\n  </tbody>\n</table>\n</div>"
     },
     "execution_count": 4,
     "metadata": {},
     "output_type": "execute_result"
    }
   ],
   "source": [
    "data_df_final.head()"
   ]
  },
  {
   "cell_type": "code",
   "execution_count": 5,
   "metadata": {},
   "outputs": [
    {
     "name": "stderr",
     "output_type": "stream",
     "text": [
      "04/22/2022 12:15:33 PM: No artists with labels found to put in legend.  Note that artists whose label start with an underscore are ignored when legend() is called with no argument.\n"
     ]
    }
   ],
   "source": [
    "data_df_final.plot(subplots=True, figsize=(16, 15));"
   ]
  },
  {
   "cell_type": "code",
   "execution_count": 6,
   "outputs": [],
   "source": [
    "height = 4\n",
    "width = 5\n",
    "\n",
    "\n",
    "def plot_save_mp(outlier_model, file_name, s_index=0, e_index=-1, sci_index=False):\n",
    "    fig = plt.figure()\n",
    "    if e_index > 0: # Adjust for full dataset\n",
    "        s_index_mp = s_index - outlier_model.ts_size\n",
    "        e_index_mp = e_index - outlier_model.ts_size\n",
    "        local_range = range(s_index,e_index)\n",
    "    else:\n",
    "        s_index_mp = s_index\n",
    "        e_index_mp = e_index\n",
    "        local_range = list(range(0, len(outlier_model.max_val) - 1))\n",
    "    plt.plot(local_range, outlier_model.max_val[s_index_mp:e_index_mp], 'b--', label='max')\n",
    "    plt.plot(local_range, outlier_model.max_mean[s_index_mp:e_index_mp], 'y--', label=r'$\\mu$')\n",
    "    plt.plot(local_range, outlier_model.max_std_dev[s_index_mp:e_index_mp], 'g--', label=r'$\\sigma$')\n",
    "    if sci_index:\n",
    "        plt.ticklabel_format(axis=\"y\", style=\"sci\", scilimits=(3, 3))\n",
    "    plt.xlabel('Time (s)')\n",
    "    plt.ylabel('Matrix Profile Values')\n",
    "\n",
    "    first_detect = True\n",
    "    for i in outlier_model.anomalies:\n",
    "        if i in local_range:\n",
    "            if e_index < 0:\n",
    "                i = i - outlier_model.ts_size # Adjust for full dataset\n",
    "            if first_detect:\n",
    "                plt.axvline(x=i, color='r', linestyle='-', label='detect')\n",
    "                first_detect = False\n",
    "            else:\n",
    "                plt.axvline(x=i, color='r', linestyle='-', )\n",
    "\n",
    "    plt.legend(loc=0)\n",
    "\n",
    "    plt.show()\n",
    "    fig.set_size_inches(w=width, h=height)\n",
    "    plt.savefig(file_name)"
   ],
   "metadata": {
    "collapsed": false,
    "pycharm": {
     "name": "#%%\n"
    }
   }
  },
  {
   "cell_type": "code",
   "execution_count": 7,
   "outputs": [],
   "source": [
    "def plot_save_freq(data, file_name, s_index=0, e_index=-1, sci_index=False, height=4, width=5):\n",
    "    fig = plt.figure()\n",
    "    plt.plot(data[s_index:e_index])\n",
    "    plt.xlabel('Time (s)')\n",
    "    plt.ylabel('Frequency (Hz)')\n",
    "    if sci_index:\n",
    "        plt.ticklabel_format(axis=\"y\", style=\"sci\", scilimits=(3, 3))\n",
    "\n",
    "\n",
    "    plt.show()\n",
    "    fig.set_size_inches(w=width, h=height)\n",
    "    plt.savefig(file_name)"
   ],
   "metadata": {
    "collapsed": false,
    "pycharm": {
     "name": "#%%\n"
    }
   }
  },
  {
   "cell_type": "code",
   "execution_count": 8,
   "outputs": [],
   "source": [
    "#All results\n",
    "outlier_key = \"f_c\"\n",
    "data_f_c = data_df_final[outlier_key]"
   ],
   "metadata": {
    "collapsed": false,
    "pycharm": {
     "name": "#%%\n"
    }
   }
  },
  {
   "cell_type": "code",
   "execution_count": 9,
   "outputs": [
    {
     "name": "stderr",
     "output_type": "stream",
     "text": [
      "/var/folders/rt/82pssgq96l9d_s3skbv32z5m0000gn/T/ipykernel_26884/2592244377.py:10: UserWarning: Matplotlib is currently using pgf, which is a non-GUI backend, so cannot show the figure.\n",
      "  plt.show()\n"
     ]
    }
   ],
   "source": [
    "height = 4\n",
    "width = 6\n",
    "plot_save_freq(data_f_c, f'{output_dir}/base_sig_{outlier_key}_all.pgf', sci_index=True, height=height, width=width)"
   ],
   "metadata": {
    "collapsed": false,
    "pycharm": {
     "name": "#%%\n"
    }
   }
  },
  {
   "cell_type": "code",
   "execution_count": 10,
   "outputs": [
    {
     "name": "stderr",
     "output_type": "stream",
     "text": [
      "/var/folders/rt/82pssgq96l9d_s3skbv32z5m0000gn/T/ipykernel_26884/2610879682.py:36: UserWarning: Matplotlib is currently using pgf, which is a non-GUI backend, so cannot show the figure.\n",
      "  plt.show()\n"
     ]
    }
   ],
   "source": [
    "fig = plt.figure()\n",
    "# local_range = list(range(0, len(outlier_model.max_val) - 1))\n",
    "plot_save_mp(outlier_model, f'{output_dir}/mp_hist_{outlier_key}.pgf', sci_index=True)"
   ],
   "metadata": {
    "collapsed": false,
    "pycharm": {
     "name": "#%%\n"
    }
   }
  },
  {
   "cell_type": "code",
   "execution_count": 11,
   "outputs": [
    {
     "name": "stderr",
     "output_type": "stream",
     "text": [
      "/var/folders/rt/82pssgq96l9d_s3skbv32z5m0000gn/T/ipykernel_26884/2592244377.py:10: UserWarning: Matplotlib is currently using pgf, which is a non-GUI backend, so cannot show the figure.\n",
      "  plt.show()\n",
      "/var/folders/rt/82pssgq96l9d_s3skbv32z5m0000gn/T/ipykernel_26884/2610879682.py:36: UserWarning: Matplotlib is currently using pgf, which is a non-GUI backend, so cannot show the figure.\n",
      "  plt.show()\n"
     ]
    }
   ],
   "source": [
    "height = 4\n",
    "width = 5\n",
    "\n",
    "s_index = 40200\n",
    "e_index = 41200\n",
    "\n",
    "plot_save_freq(data_f_c, f'{output_dir}/base_sig_{outlier_key}_f1.pgf', s_index=s_index, e_index=e_index,\n",
    "               sci_index=True, height=height, width=width)\n",
    "s_index = 40200\n",
    "e_index = 46000\n",
    "\n",
    "plot_save_mp(outlier_model, f'{output_dir}/mp_hist_{outlier_key}_f1.pgf', s_index=s_index, e_index=e_index,\n",
    "             sci_index=True)\n"
   ],
   "metadata": {
    "collapsed": false,
    "pycharm": {
     "name": "#%%\n"
    }
   }
  },
  {
   "cell_type": "code",
   "execution_count": 12,
   "outputs": [
    {
     "name": "stderr",
     "output_type": "stream",
     "text": [
      "/var/folders/rt/82pssgq96l9d_s3skbv32z5m0000gn/T/ipykernel_26884/2592244377.py:10: UserWarning: Matplotlib is currently using pgf, which is a non-GUI backend, so cannot show the figure.\n",
      "  plt.show()\n",
      "/var/folders/rt/82pssgq96l9d_s3skbv32z5m0000gn/T/ipykernel_26884/2610879682.py:36: UserWarning: Matplotlib is currently using pgf, which is a non-GUI backend, so cannot show the figure.\n",
      "  plt.show()\n"
     ]
    }
   ],
   "source": [
    "s_index = 115000\n",
    "e_index = 165000\n",
    "\n",
    "plot_save_freq(data_f_c, f'{output_dir}/base_sig_{outlier_key}_f2.pgf', s_index=s_index, e_index=e_index,\n",
    "            sci_index=False, height=height, width=width)\n",
    "\n",
    "plot_save_mp(outlier_model, f'{output_dir}/mp_hist_{outlier_key}_f2.pgf', s_index=s_index, e_index=e_index,\n",
    "             sci_index=False)"
   ],
   "metadata": {
    "collapsed": false,
    "pycharm": {
     "name": "#%%\n"
    }
   }
  },
  {
   "cell_type": "code",
   "execution_count": 13,
   "outputs": [
    {
     "name": "stderr",
     "output_type": "stream",
     "text": [
      "/var/folders/rt/82pssgq96l9d_s3skbv32z5m0000gn/T/ipykernel_26884/2592244377.py:10: UserWarning: Matplotlib is currently using pgf, which is a non-GUI backend, so cannot show the figure.\n",
      "  plt.show()\n",
      "/var/folders/rt/82pssgq96l9d_s3skbv32z5m0000gn/T/ipykernel_26884/2610879682.py:36: UserWarning: Matplotlib is currently using pgf, which is a non-GUI backend, so cannot show the figure.\n",
      "  plt.show()\n"
     ]
    }
   ],
   "source": [
    "s_index = 196000\n",
    "e_index = 245000\n",
    "\n",
    "plot_save_freq(data_f_c, f'{output_dir}/base_sig_{outlier_key}_f3.pgf', s_index=s_index, e_index=e_index,\n",
    "            sci_index=False, height=height, width=width)\n",
    "\n",
    "plot_save_mp(outlier_model, f'{output_dir}/mp_hist_{outlier_key}_f3.pgf', s_index=s_index, e_index=e_index,\n",
    "             sci_index=False)\n"
   ],
   "metadata": {
    "collapsed": false,
    "pycharm": {
     "name": "#%%\n"
    }
   }
  },
  {
   "cell_type": "code",
   "execution_count": 14,
   "outputs": [
    {
     "name": "stderr",
     "output_type": "stream",
     "text": [
      "/var/folders/rt/82pssgq96l9d_s3skbv32z5m0000gn/T/ipykernel_26884/2592244377.py:10: UserWarning: Matplotlib is currently using pgf, which is a non-GUI backend, so cannot show the figure.\n",
      "  plt.show()\n",
      "/var/folders/rt/82pssgq96l9d_s3skbv32z5m0000gn/T/ipykernel_26884/2610879682.py:36: UserWarning: Matplotlib is currently using pgf, which is a non-GUI backend, so cannot show the figure.\n",
      "  plt.show()\n"
     ]
    }
   ],
   "source": [
    "s_index = 280000\n",
    "e_index = 285500\n",
    "plot_save_freq(data_f_c, f'{output_dir}/base_sig_{outlier_key}_f4.pgf', s_index=s_index, e_index=e_index,\n",
    "            sci_index=True, height=height, width=width)\n",
    "\n",
    "plot_save_mp(outlier_model, f'{output_dir}/mp_hist_{outlier_key}_f4.pgf', s_index=s_index, e_index=e_index,\n",
    "             sci_index=True)\n"
   ],
   "metadata": {
    "collapsed": false,
    "pycharm": {
     "name": "#%%\n"
    }
   }
  },
  {
   "cell_type": "code",
   "execution_count": 15,
   "outputs": [
    {
     "name": "stderr",
     "output_type": "stream",
     "text": [
      "/var/folders/rt/82pssgq96l9d_s3skbv32z5m0000gn/T/ipykernel_26884/1257285567.py:43: UserWarning: Matplotlib is currently using pgf, which is a non-GUI backend, so cannot show the figure.\n",
      "  plt.show()\n"
     ]
    }
   ],
   "source": [
    "# adapted from https://stackoverflow.com/questions/44951911/plot-a-binary-timeline-in-matplotlib?answertab=modifieddesc#tab-top\n",
    "width = 5.5\n",
    "height = 2.5\n",
    "\n",
    "#create a time series s with dates as index and 0 and 1 for events\n",
    "df = data_df_final.copy()\n",
    "my_column_changes = df[\"fault\"].shift() != df[\"fault\"]\n",
    "\n",
    "events = df[my_column_changes]\n",
    "\n",
    "fault_start = events.loc[events[\"fault\"] == 1].index.tolist()\n",
    "fault_end = events.loc[events[\"fault\"] == 0].index.tolist()\n",
    "\n",
    "no_fault_no_ends = fault_end [1:]\n",
    "\n",
    "times_faults = list(zip(fault_start, no_fault_no_ends))\n",
    "fault_start.append(df.index[-1]) # needs last element to finalize graph\n",
    "times_no_faults = list(zip(fault_end ,fault_start))\n",
    "\n",
    "bar_green =  list(map(lambda x: (x[0], x[1] - x[0]) , times_no_faults))\n",
    "bar_red = list(map(lambda x: (x[0], x[1] - x[0]) , times_faults))\n",
    "\n",
    "fig, ax = plt.subplots(figsize=(width, height))\n",
    "\n",
    "plt.broken_barh(bar_green, (-1, 1), color=\"lightgreen\")\n",
    "plt.broken_barh(bar_red, (-1, 1), color=\"lightsalmon\")\n",
    "\n",
    "ax.vlines(\n",
    "    outlier_model.anomalies,\n",
    "    ymin=-1,\n",
    "    ymax=0,\n",
    "    linewidth=2,\n",
    "    colors='r',\n",
    "    linestyle='--', label='detection')\n",
    "\n",
    "ax.legend()\n",
    "#format axes\n",
    "ax.margins(0)\n",
    "ax.set_yticks([])\n",
    "ax.set_xlabel('Time (s)')\n",
    "ax.set_ylabel('Ground Truth')\n",
    "plt.tight_layout()\n",
    "plt.show()\n",
    "\n",
    "fig.set_size_inches(w=width, h=height)\n",
    "plt.savefig(f'{output_dir}/outlier_result_{outlier_key}.pgf')"
   ],
   "metadata": {
    "collapsed": false,
    "pycharm": {
     "name": "#%%\n"
    }
   }
  },
  {
   "cell_type": "code",
   "execution_count": 16,
   "outputs": [
    {
     "name": "stderr",
     "output_type": "stream",
     "text": [
      "/var/folders/rt/82pssgq96l9d_s3skbv32z5m0000gn/T/ipykernel_26884/3832441231.py:37: UserWarning: Matplotlib is currently using pgf, which is a non-GUI backend, so cannot show the figure.\n",
      "  plt.show()\n"
     ]
    }
   ],
   "source": [
    "#create a time series s with dates as index and 0 and 1 for events\n",
    "#create a time series s with dates as index and 0 and 1 for events\n",
    "dates = range(1, 101)\n",
    "events = np.random.random_integers(0, 1, size=len(dates))\n",
    "s = pd.Series(events, index=dates)\n",
    "\n",
    "fig, ax = plt.subplots(figsize=(6, 2))\n",
    "\n",
    "# plot green for event==1\n",
    "s1 = s[s == 1]\n",
    "# inxval = matplotlib.dates.date2num(s1.index.to_pydatetime())\n",
    "times1 = list(zip(s1.index, np.ones(len(s1))))\n",
    "test = list(s1)\n",
    "plt.broken_barh(times1, (-1, 1), color=\"lightgreen\")\n",
    "# plot red for event==0\n",
    "s2 = s[s == 0]\n",
    "# inxval = matplotlib.dates.date2num(s2.index.to_pydatetime())\n",
    "\n",
    "times2 = list(zip(s2.index, np.ones(len(s2))))\n",
    "\n",
    "plt.broken_barh(times2, (-1, 1), color=\"lightsalmon\")\n",
    "ax.vlines(\n",
    "    [5, 50, 100],\n",
    "    ymin=-1,\n",
    "    ymax=0,\n",
    "    linewidth=2,\n",
    "    colors='firebrick',\n",
    "    linestyle='--', label='detection')\n",
    "\n",
    "ax.legend()\n",
    "#format axes\n",
    "ax.margins(0)\n",
    "ax.set_yticks([])\n",
    "ax.set_xlabel('Time (s)')\n",
    "ax.set_ylabel('Anomaly')\n",
    "plt.tight_layout()\n",
    "plt.show()"
   ],
   "metadata": {
    "collapsed": false,
    "pycharm": {
     "name": "#%%\n"
    }
   }
  }
 ],
 "metadata": {
  "interpreter": {
   "hash": "3b99005fd577fa40f3cce433b2b92303885900e634b2b5344c07c59d06c8792d"
  },
  "kernelspec": {
   "display_name": "Python 3 (ipykernel)",
   "language": "python",
   "name": "python3"
  },
  "language_info": {
   "codemirror_mode": {
    "name": "ipython",
    "version": 3
   },
   "file_extension": ".py",
   "mimetype": "text/x-python",
   "name": "python",
   "nbconvert_exporter": "python",
   "pygments_lexer": "ipython3",
   "version": "3.8.5"
  },
  "toc": {
   "base_numbering": 1,
   "nav_menu": {},
   "number_sections": true,
   "sideBar": true,
   "skip_h1_title": false,
   "title_cell": "Table of Contents",
   "title_sidebar": "Contents",
   "toc_cell": false,
   "toc_position": {},
   "toc_section_display": true,
   "toc_window_display": false
  },
  "toc-autonumbering": true
 },
 "nbformat": 4,
 "nbformat_minor": 5
}