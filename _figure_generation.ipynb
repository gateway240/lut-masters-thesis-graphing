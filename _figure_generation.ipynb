{
 "cells": [
  {
   "cell_type": "markdown",
   "source": [
    "# Imports"
   ],
   "metadata": {
    "collapsed": false
   }
  },
  {
   "cell_type": "code",
   "execution_count": 1,
   "outputs": [],
   "source": [
    "import sys\n",
    "import pandas as pd\n",
    "# to save results to data directory\n",
    "module_path = '..'\n",
    "if module_path not in sys.path:\n",
    "    sys.path.insert(1, module_path)\n",
    "# increase displayed columns in jupyter notebook\n",
    "pd.set_option('display.max_columns', 200)\n",
    "pd.set_option('display.max_rows', 300)"
   ],
   "metadata": {
    "collapsed": false,
    "pycharm": {
     "name": "#%%\n"
    }
   }
  },
  {
   "cell_type": "code",
   "execution_count": 2,
   "outputs": [],
   "source": [
    "\n",
    "import matplotlib\n",
    "import logging\n",
    "\n",
    "import numpy as np\n",
    "import matplotlib.pyplot as plt\n",
    "\n",
    "matplotlib.use(\"pgf\")\n",
    "matplotlib.rcParams.update({\n",
    "    \"pgf.texsystem\": \"pdflatex\",\n",
    "    'font.family': 'serif',\n",
    "    'text.usetex': True,\n",
    "    'pgf.rcfonts': False,\n",
    "})\n",
    "\n",
    "# temporarily remove deprecation warnings\n",
    "import warnings\n",
    "warnings.filterwarnings(\"ignore\", category=DeprecationWarning)\n",
    "\n",
    "logging.basicConfig(format='%(asctime)s: %(message)s', datefmt='%m/%d/%Y %I:%M:%S %p')\n",
    "logger = logging.getLogger(\"TimeSeries\")\n",
    "logger.setLevel(logging.INFO)"
   ],
   "metadata": {
    "collapsed": false,
    "pycharm": {
     "name": "#%%\n"
    }
   }
  },
  {
   "cell_type": "markdown",
   "source": [
    "# Dataset"
   ],
   "metadata": {
    "collapsed": false
   }
  },
  {
   "cell_type": "code",
   "execution_count": 3,
   "outputs": [],
   "source": [
    "output_dir = 'taxonomy'\n",
    "\n",
    "height = 4\n",
    "width = 5\n",
    "x_label = 'Sample (n)'\n",
    "y_label = 'Voltage ($V$)'\n",
    "\n",
    "Fs = 1000\n",
    "f = 5\n",
    "sample = 1000\n",
    "\n",
    "c_start = 350\n",
    "c_end = 650\n",
    "c_val = 1"
   ],
   "metadata": {
    "collapsed": false,
    "pycharm": {
     "name": "#%%\n"
    }
   }
  },
  {
   "cell_type": "code",
   "execution_count": 4,
   "outputs": [],
   "source": [
    "fig,ax = plt.subplots()\n",
    "# make a plot\n",
    "c_start = 400\n",
    "c_val = 2\n",
    "x = np.arange(sample)\n",
    "y = np.sin(2 * np.pi * f * x / Fs)\n",
    "y[c_start] = c_val\n",
    "ax.plot(x, y, label='signal')\n",
    "ax.plot(c_start,c_val,'ro',markersize=8, label='anomaly')\n",
    "ax.set_xlabel(x_label)\n",
    "ax.set_ylabel(y_label)\n",
    "fig.legend(loc='upper right',bbox_to_anchor=(1,1),bbox_transform=ax.transAxes)\n",
    "\n",
    "# save the plot as a file\n",
    "fig.set_size_inches(w=width, h=height)\n",
    "plt.savefig(f'{output_dir}/point_outlier.pgf')"
   ],
   "metadata": {
    "collapsed": false,
    "pycharm": {
     "name": "#%%\n"
    }
   }
  },
  {
   "cell_type": "code",
   "execution_count": 5,
   "outputs": [],
   "source": [
    "fig,ax = plt.subplots()\n",
    "# make a plot\n",
    "c_val = 0\n",
    "c_start = 400\n",
    "c_end = 600\n",
    "x = np.arange(sample)\n",
    "y = np.sin(2 * np.pi * f * x / Fs)\n",
    "y[c_start:c_end] = c_val\n",
    "ax.plot(x, y, label='signal')\n",
    "ax.plot(x[c_start:c_end],y[c_start:c_end],'r--', label='anomaly')\n",
    "ax.set_xlabel(x_label)\n",
    "ax.set_ylabel(y_label)\n",
    "fig.legend(loc='upper right',bbox_to_anchor=(1,1),bbox_transform=ax.transAxes)\n",
    "\n",
    "# save the plot as a file\n",
    "fig.set_size_inches(w=width, h=height)\n",
    "plt.savefig(f'{output_dir}/contextual_outlier.pgf')"
   ],
   "metadata": {
    "collapsed": false,
    "pycharm": {
     "name": "#%%\n"
    }
   }
  },
  {
   "cell_type": "code",
   "execution_count": 6,
   "outputs": [],
   "source": [
    "fig,ax = plt.subplots()\n",
    "# make a plot\n",
    "\n",
    "c_val = -1\n",
    "c_start = 350\n",
    "c_end = 600\n",
    "speed = 4\n",
    "x = np.arange(sample)\n",
    "y = np.sin(2 * np.pi * f * x / Fs)\n",
    "y[c_start:c_end] = c_val\n",
    "ax.plot(x, y, label='signal')\n",
    "ax.plot(x[c_start:c_end],y[c_start:c_end],'r--', label='anomaly')\n",
    "ax.set_xlabel(x_label)\n",
    "ax.set_ylabel(y_label)\n",
    "fig.legend(loc='upper right',bbox_to_anchor=(1,1),bbox_transform=ax.transAxes)\n",
    "\n",
    "# save the plot as a file\n",
    "fig.set_size_inches(w=width, h=height)\n",
    "plt.savefig(f'{output_dir}/shapelet_outlier.pgf')"
   ],
   "metadata": {
    "collapsed": false,
    "pycharm": {
     "name": "#%%\n"
    }
   }
  },
  {
   "cell_type": "code",
   "execution_count": 7,
   "outputs": [],
   "source": [
    "fig,ax = plt.subplots()\n",
    "# make a plot\n",
    "\n",
    "c_val = 0\n",
    "x = np.arange(sample)\n",
    "y = np.sin(2 * np.pi * f * x / Fs)\n",
    "y[c_start:c_end] = np.sin(2 * np.pi * f * speed * x[c_start:c_end] / Fs)\n",
    "ax.plot(x, y, label='signal')\n",
    "ax.plot(x[c_start:c_end],y[c_start:c_end],'r--', label='anomaly')\n",
    "ax.set_xlabel(x_label)\n",
    "ax.set_ylabel(y_label)\n",
    "fig.legend(loc='upper right',bbox_to_anchor=(1,1),bbox_transform=ax.transAxes)\n",
    "\n",
    "# save the plot as a file\n",
    "fig.set_size_inches(w=width, h=height)\n",
    "plt.savefig(f'{output_dir}/seasonal_outlier.pgf')"
   ],
   "metadata": {
    "collapsed": false,
    "pycharm": {
     "name": "#%%\n"
    }
   }
  },
  {
   "cell_type": "code",
   "execution_count": 8,
   "outputs": [],
   "source": [
    "fig,ax = plt.subplots()\n",
    "# make a plot\n",
    "\n",
    "c_val = 0\n",
    "c_start = 400\n",
    "x = np.arange(sample)\n",
    "y = np.sin(2 * np.pi * f * x / Fs)\n",
    "y[c_start:] = y[c_start:] - 1\n",
    "ax.plot(x, y, label='signal')\n",
    "ax.plot(x[c_start-50:c_start+50],y[c_start-50:c_start+50],'r--', label='anomaly')\n",
    "ax.set_xlabel(x_label)\n",
    "ax.set_ylabel(y_label)\n",
    "fig.legend(loc='upper right',bbox_to_anchor=(1,1),bbox_transform=ax.transAxes)\n",
    "\n",
    "# save the plot as a file\n",
    "fig.set_size_inches(w=width, h=height)\n",
    "plt.savefig(f'{output_dir}/trend_outlier.pgf')"
   ],
   "metadata": {
    "collapsed": false,
    "pycharm": {
     "name": "#%%\n"
    }
   }
  },
  {
   "cell_type": "code",
   "execution_count": 9,
   "outputs": [],
   "source": [
    "height = 6\n",
    "width = 6\n",
    "fig, ax = plt.subplots(figsize=(width,height))\n",
    "x = [6, 4, 3, 2, 2]\n",
    "labels = ['KDD-CUP99', 'Covertype-Forest', 'Shuttle', 'UCI-Pendigit', 'UCI-Vowel']\n",
    "\n",
    "patches, texts, pcts = ax.pie(\n",
    "    x, labels=labels, autopct='%.1f%%',\n",
    "    wedgeprops={'linewidth': 3.0, 'edgecolor': 'white'},\n",
    "    textprops={'size': 'x-large'},\n",
    "    startangle=90)\n",
    "# For each wedge, set the corresponding text label color to the wedge's\n",
    "# face color.\n",
    "for i, patch in enumerate(patches):\n",
    "  texts[i].set_color(patch.get_facecolor())\n",
    "plt.setp(pcts, color='white')\n",
    "# plt.setp(texts, fontweight=600)\n",
    "# ax.set_title('Sport Popularity', fontsize=18)\n",
    "plt.tight_layout()\n",
    "\n",
    "# save the plot as a file\n",
    "fig.set_size_inches(w=width, h=height)\n",
    "plt.savefig(f'{output_dir}/dataset_survey.pgf')"
   ],
   "metadata": {
    "collapsed": false,
    "pycharm": {
     "name": "#%%\n"
    }
   }
  }
 ],
 "metadata": {
  "interpreter": {
   "hash": "d9d18e9f29cc76176cc64cecda10b08503df27bbeb68d46276fb666f16272d10"
  },
  "kernelspec": {
   "name": "python3",
   "language": "python",
   "display_name": "Python 3 (ipykernel)"
  },
  "language_info": {
   "codemirror_mode": {
    "name": "ipython",
    "version": 3
   },
   "file_extension": ".py",
   "mimetype": "text/x-python",
   "name": "python",
   "nbconvert_exporter": "python",
   "pygments_lexer": "ipython3",
   "version": "3.8.12"
  },
  "toc-autonumbering": true
 },
 "nbformat": 4,
 "nbformat_minor": 5
}